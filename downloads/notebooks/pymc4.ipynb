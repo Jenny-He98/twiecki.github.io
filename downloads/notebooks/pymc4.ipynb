{
 "cells": [
  {
   "cell_type": "markdown",
   "metadata": {},
   "source": [
    "# Theano, PyMC3 and PyMC4\n",
    "\n",
    "Since the Theano team announced that it will cease development and maintenance of Theano within a year, we, the PyMC devs, have been actively discussing what to do about this. While we still do not have a solid roadmap of what new backend we will chose, we did reach some conclusions and think it is time for an update and a big announcement.\n",
    "\n",
    "## PyMC will take over Theano maintenance\n",
    "\n",
    "While discussing the pros and cons of all the various computational backends (mainly TensorFlow, PyTorch and MXNet) we started to realize one thing: each of those options have some unique characteristics that make them not ideal as a backend for PyMC4. In constrast, Theano already does exactly what we want it to do: it is mature, fast, well packaged (contrary to some other options *cough* TensorFlow) and has served us quite well. We are very happy with PyMC3 and feel there is no good reason to chase the newest and fanciest framework out there just for the sake of it. \n",
    "\n",
    "Moreover, a lot of production code out there uses PyMC3 which introduces a fair amount of concern what do with existing PyMC3 code, or whether to start adopting PyMC3 in the first place. We want to put those concerns to rest by taking over maintenance of Theano.\n",
    "\n",
    "As such, we talked to Frederic Bastien (Theano's maintainer / BDFL) if we could take over maintenance of Theano once they step down. Over the next year, the PyMC devs will get access to the Theano infrastructure (github, pypi etc) and get aquainted with the process.\n",
    "\n",
    "Now critically, we do not plan to run this like Frederic did. We will only support Theano to the benefit of PyMC3. As such, we will not add features, fix bugs or provide support for things not related to PyMC3. Our hope is that, given the maturity of the code base, that it will not be too much effort to ensure that Theano is still compatible with updates to its dependencies and make sure it can be installed properly on modern systems.\n",
    "\n"
   ]
  }
 ],
 "metadata": {
  "kernelspec": {
   "display_name": "Python 3",
   "language": "python",
   "name": "python3"
  },
  "language_info": {
   "codemirror_mode": {
    "name": "ipython",
    "version": 3
   },
   "file_extension": ".py",
   "mimetype": "text/x-python",
   "name": "python",
   "nbconvert_exporter": "python",
   "pygments_lexer": "ipython3",
   "version": "3.6.4"
  }
 },
 "nbformat": 4,
 "nbformat_minor": 2
}
