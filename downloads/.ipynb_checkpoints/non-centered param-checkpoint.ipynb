{
 "cells": [
  {
   "cell_type": "code",
   "execution_count": 1,
   "metadata": {},
   "outputs": [],
   "source": [
    "%matplotlib inline\n",
    "\n",
    "import numpy as np\n",
    "import pandas as pd\n",
    "import pymc3 as pm\n",
    "import theano.tensor as tt"
   ]
  },
  {
   "cell_type": "code",
   "execution_count": 30,
   "metadata": {},
   "outputs": [],
   "source": [
    "data = np.random.randn(1000, 10)\n",
    "mus = np.random.randn(10) * .2\n",
    "data += mus"
   ]
  },
  {
   "cell_type": "code",
   "execution_count": 31,
   "metadata": {},
   "outputs": [
    {
     "data": {
      "text/plain": [
       "array([-0.2185084 , -0.08164706, -0.06935394,  0.19235161, -0.15864938,\n",
       "        0.03422182,  0.0088106 , -0.11556858, -0.22881244, -0.33375447])"
      ]
     },
     "execution_count": 31,
     "metadata": {},
     "output_type": "execute_result"
    }
   ],
   "source": [
    "data.mean(axis=0)"
   ]
  },
  {
   "cell_type": "code",
   "execution_count": 34,
   "metadata": {},
   "outputs": [
    {
     "data": {
      "text/plain": [
       "'/Users/twiecki/anaconda/lib/python3.6/site-packages/pymc3/__init__.py'"
      ]
     },
     "execution_count": 34,
     "metadata": {},
     "output_type": "execute_result"
    }
   ],
   "source": [
    "pm.__file__"
   ]
  },
  {
   "cell_type": "code",
   "execution_count": 33,
   "metadata": {},
   "outputs": [
    {
     "name": "stderr",
     "output_type": "stream",
     "text": [
      "Auto-assigning NUTS sampler...\n",
      "Initializing NUTS using jitter+adapt_diag...\n",
      "Multiprocess sampling (2 chains in 2 jobs)\n",
      "NUTS: [mu_raw]\n",
      "Sampling 2 chains: 100%|██████████| 2000/2000 [00:01<00:00, 737.94draws/s]\n",
      "The chain contains only diverging samples. The model is probably misspecified.\n",
      "The acceptance probability does not match the target. It is 0.0, but should be close to 0.8. Try to increase the number of tuning steps.\n",
      "The chain contains only diverging samples. The model is probably misspecified.\n",
      "The acceptance probability does not match the target. It is 0.0, but should be close to 0.8. Try to increase the number of tuning steps.\n",
      "The gelman-rubin statistic is larger than 1.4 for some parameters. The sampler did not converge.\n"
     ]
    }
   ],
   "source": [
    "with pm.Model():\n",
    "    mu = pm.Normal('mu_raw', sd=3, shape=10)\n",
    "    pm.Normal('obs', mu=mu, sd=1, observed=data)\n",
    "    trace = pm.sample()"
   ]
  },
  {
   "cell_type": "code",
   "execution_count": 28,
   "metadata": {},
   "outputs": [],
   "source": [
    "with pm.Model() as model_centered:\n",
    "    mu_grp = pm.Normal('mu_grp', sd=3)\n",
    "    sigma_grp = pm.HalfNormal('sigma_grp', sd=5)\n",
    "    mu_raw = pm.Normal('mu_raw', shape=10)\n",
    "    mu_indiv = mu_raw * sigma_grp + mu_grp\n",
    "    pm.Normal('obs', mu=mu_indiv, sd=1, observed=data)\n",
    "    \n",
    "with pm.Model() as model_non_centered:\n",
    "    mu_grp = pm.Normal('mu_grp', sd=3)\n",
    "    sigma_grp = pm.HalfNormal('sigma_grp', sd=5)\n",
    "    mu_indiv = pm.Normal('mu_raw', mu=mu_grp, sd=sigma_grp, shape=10)\n",
    "    pm.Normal('obs', mu=mu_indiv, sd=1, observed=data)"
   ]
  },
  {
   "cell_type": "code",
   "execution_count": 29,
   "metadata": {},
   "outputs": [
    {
     "name": "stderr",
     "output_type": "stream",
     "text": [
      "Auto-assigning NUTS sampler...\n",
      "Initializing NUTS using jitter+adapt_diag...\n",
      "Multiprocess sampling (2 chains in 2 jobs)\n",
      "NUTS: [mu_raw, sigma_grp, mu_grp]\n",
      "Sampling 2 chains: 100%|██████████| 2000/2000 [00:02<00:00, 943.96draws/s]\n",
      "The chain contains only diverging samples. The model is probably misspecified.\n",
      "The acceptance probability does not match the target. It is 0.0, but should be close to 0.8. Try to increase the number of tuning steps.\n",
      "The chain contains only diverging samples. The model is probably misspecified.\n",
      "The acceptance probability does not match the target. It is 0.0, but should be close to 0.8. Try to increase the number of tuning steps.\n",
      "The gelman-rubin statistic is larger than 1.4 for some parameters. The sampler did not converge.\n",
      "The estimated number of effective samples is smaller than 200 for some parameters.\n",
      "Auto-assigning NUTS sampler...\n",
      "Initializing NUTS using jitter+adapt_diag...\n",
      "Multiprocess sampling (2 chains in 2 jobs)\n",
      "NUTS: [mu_raw, sigma_grp, mu_grp]\n",
      "Sampling 2 chains: 100%|██████████| 2000/2000 [00:02<00:00, 934.17draws/s]\n",
      "The chain contains only diverging samples. The model is probably misspecified.\n",
      "The acceptance probability does not match the target. It is 0.0, but should be close to 0.8. Try to increase the number of tuning steps.\n",
      "The chain contains only diverging samples. The model is probably misspecified.\n",
      "The acceptance probability does not match the target. It is 0.0, but should be close to 0.8. Try to increase the number of tuning steps.\n",
      "The gelman-rubin statistic is larger than 1.4 for some parameters. The sampler did not converge.\n"
     ]
    }
   ],
   "source": [
    "with model_centered:\n",
    "    trace_centered = pm.sample()\n",
    "    \n",
    "with model_non_centered:\n",
    "    trace_non_centered = pm.sample()"
   ]
  },
  {
   "cell_type": "code",
   "execution_count": null,
   "metadata": {},
   "outputs": [],
   "source": []
  }
 ],
 "metadata": {
  "kernelspec": {
   "display_name": "Python 3",
   "language": "python",
   "name": "python3"
  },
  "language_info": {
   "codemirror_mode": {
    "name": "ipython",
    "version": 3
   },
   "file_extension": ".py",
   "mimetype": "text/x-python",
   "name": "python",
   "nbconvert_exporter": "python",
   "pygments_lexer": "ipython3",
   "version": "3.6.4"
  }
 },
 "nbformat": 4,
 "nbformat_minor": 2
}
